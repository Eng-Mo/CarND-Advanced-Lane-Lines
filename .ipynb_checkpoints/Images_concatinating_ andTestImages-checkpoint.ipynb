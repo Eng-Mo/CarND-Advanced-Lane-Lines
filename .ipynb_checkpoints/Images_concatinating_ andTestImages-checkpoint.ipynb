{
 "cells": [
  {
   "cell_type": "code",
   "execution_count": 10,
   "metadata": {},
   "outputs": [],
   "source": [
    "import numpy as np\n",
    "import PIL\n",
    "from PIL import Image\n",
    "\n",
    "list_im = [\n",
    "#     './output_images/test1.png'\n",
    "#           ,'./output_images/sobelTH-test1.png'\n",
    "          './output_images/fs.png'\n",
    "          , './output_images/cc.png'\n",
    "          ]\n",
    "imgs    = [ PIL.Image.open(i) for i in list_im ]\n",
    "# pick the image which is the smallest, and resize the others to match it (can be arbitrary image shape here)\n",
    "# min_shape = sorted( [(np.sum(i.size), i.size ) for i in imgs])[0][1]\n",
    "# imgs_comb = np.hstack( (np.asarray( i.resize(min_shape) ) for i in imgs ) )\n",
    "\n",
    "# # save that beautiful picture\n",
    "# imgs_comb = PIL.Image.fromarray( imgs_comb)\n",
    "# imgs_comb.save( './output_images/cc.png' )    \n",
    "\n",
    "# for a vertical stacking it is simple: use vstack\n",
    "imgs_comb = np.vstack( (np.asarray( i.resize(min_shape) ) for i in imgs ) )\n",
    "imgs_comb = PIL.Image.fromarray( imgs_comb)\n",
    "imgs_comb.save( './output_images/Lane_thresh.png' )"
   ]
  }
 ],
 "metadata": {
  "kernelspec": {
   "display_name": "Python 3",
   "language": "python",
   "name": "python3"
  },
  "language_info": {
   "codemirror_mode": {
    "name": "ipython",
    "version": 3
   },
   "file_extension": ".py",
   "mimetype": "text/x-python",
   "name": "python",
   "nbconvert_exporter": "python",
   "pygments_lexer": "ipython3",
   "version": "3.5.2"
  },
  "widgets": {
   "state": {},
   "version": "1.1.2"
  }
 },
 "nbformat": 4,
 "nbformat_minor": 2
}
