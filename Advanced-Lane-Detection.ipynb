{
 "cells": [
  {
   "cell_type": "code",
   "execution_count": 1,
   "metadata": {
    "collapsed": true
   },
   "outputs": [],
   "source": [
    "from LaneDetect import *"
   ]
  },
  {
   "cell_type": "code",
   "execution_count": 2,
   "metadata": {
    "collapsed": true
   },
   "outputs": [],
   "source": [
    "def imageprocess(frame):\n",
    "    font = cv2.FONT_HERSHEY_SIMPLEX\n",
    "    global mtx\n",
    "    global dist\n",
    "    orgImg=frame\n",
    "    gray =cv2.cvtColor(frame,cv2.COLOR_RGB2GRAY)\n",
    "\n",
    "\n",
    "    sobel_edge= SobelThr(gray) \n",
    "    color_threshld= CTHR(orgImg)\n",
    "    comI=combinI(sobel_edge,color_threshld) \n",
    "\n",
    "    roib=region_of_interest(comI)\n",
    "\n",
    "    undistI=undistresult(roib, mtx,dist)\n",
    "    pI, pM=prespectI(undistI)  \n",
    "    pI = cv2.inRange(pI, 10, 255)\n",
    "    Minv = np.linalg.inv(pM)\n",
    "    [left_fit, ploty,right_fit,lc, rc, offset]= LineFitting(pI)\n",
    "    uW=unwrappedframe(orgImg,pI,Minv,left_fit, ploty,right_fit)\n",
    "    uW=cv2.putText(uW,'Curvature left: %.1f m'%lc,(50,50), \n",
    "                    font, 1,(255,255,255),2,cv2.LINE_AA)\n",
    "    uW=cv2.putText(uW,'Curvature right: %.1f m'%rc,(50,100),\n",
    "                   font, 1,(255,255,255),2,cv2.LINE_AA)\n",
    "    uW=cv2.putText(uW,'Center car offset: %.1f m'%offset,(50,150),\n",
    "                   font, 1,(255,255,255),2,cv2.LINE_AA)\n",
    "    return uW"
   ]
  },
  {
   "cell_type": "code",
   "execution_count": 3,
   "metadata": {},
   "outputs": [
    {
     "name": "stdout",
     "output_type": "stream",
     "text": [
      "[MoviePy] >>>> Building video project_output.mp4\n",
      "[MoviePy] Writing video project_output.mp4\n"
     ]
    },
    {
     "name": "stderr",
     "output_type": "stream",
     "text": [
      "100%|█████████▉| 1260/1261 [06:16<00:00,  3.39it/s]\n"
     ]
    },
    {
     "name": "stdout",
     "output_type": "stream",
     "text": [
      "[MoviePy] Done.\n",
      "[MoviePy] >>>> Video ready: project_output.mp4 \n",
      "\n"
     ]
    }
   ],
   "source": [
    "clip = VideoFileClip('project_video.mp4') # Read clip\n",
    "frameClibration= clip.get_frame(0)\n",
    "\n",
    "\n",
    "[ret, mtx, dist, rvecs,tvecs] =undistorT(frameClibration)\n",
    "\n",
    "\n",
    "from moviepy.editor import VideoFileClip\n",
    "from IPython.display import HTML\n",
    "cars=[]\n",
    "test_ouput='project_output.mp4'\n",
    "\n",
    "test_clip= clip.fl_image(imageprocess)\n",
    "test_clip.write_videofile(test_ouput,audio=0)\n"
   ]
  }
 ],
 "metadata": {
  "anaconda-cloud": {},
  "kernelspec": {
   "display_name": "Python 3",
   "language": "python",
   "name": "python3"
  },
  "language_info": {
   "codemirror_mode": {
    "name": "ipython",
    "version": 3
   },
   "file_extension": ".py",
   "mimetype": "text/x-python",
   "name": "python",
   "nbconvert_exporter": "python",
   "pygments_lexer": "ipython3",
   "version": "3.5.2"
  },
  "widgets": {
   "state": {},
   "version": "1.1.2"
  }
 },
 "nbformat": 4,
 "nbformat_minor": 2
}
